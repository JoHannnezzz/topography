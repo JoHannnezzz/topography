{
 "metadata": {
  "name": "",
  "signature": "sha256:97f38b5a4cb8784a3c9f6c35df68276405bd34648124baa53cf5d58c6ecd74ff"
 },
 "nbformat": 3,
 "nbformat_minor": 0,
 "worksheets": [
  {
   "cells": [
    {
     "cell_type": "code",
     "collapsed": false,
     "input": [
      "import nipype.interfaces.freesurfer as fs"
     ],
     "language": "python",
     "metadata": {},
     "outputs": [
      {
       "output_type": "stream",
       "stream": "stderr",
       "text": [
        "/home/raid1/margulies/.local/lib/python2.7/site-packages/scipy/__init__.py:111: UserWarning: Numpy 1.6.2 or above is recommended for this version of scipy (detected version 1.6.1)\n",
        "  UserWarning)\n"
       ]
      }
     ],
     "prompt_number": 1
    },
    {
     "cell_type": "code",
     "collapsed": false,
     "input": [
      "sampler = fs.SampleToSurface(hemi=\"lh\")\n",
      "sampler.inputs.source_file = \"/scr/ilz2/LEMON_LSD/23576/preprocessed/lemon_resting/rest_preprocessed.nii.gz\"\n",
      "#sampler.inputs.reg_file = \"register.dat\"\n",
      "sampler.inputs.sampling_method = \"average\"\n",
      "sampler.inputs.sampling_range = 1\n",
      "sampler.inputs.sampling_units = \"frac\"\n",
      "sampler.inputs.cortex_mask = True\n",
      "sampler.inputs.reg_header = True\n",
      "sampler.inputs.target_subject = \"fsaverage4\"\n",
      "sampler.inputs.smooth_surf = 6\n",
      "sampler.inputs.surf_reg = True\n",
      "sampler.inputs.no_reshape = True\n",
      "sampler.inputs.subject_id = \"23651\"\n",
      "\n",
      "res = sampler.run() \n"
     ],
     "language": "python",
     "metadata": {},
     "outputs": [
      {
       "ename": "IOError",
       "evalue": "mri_vol2surf could not be found on host kaiser.cbs.mpg.de\nInterface SampleToSurface failed to run. ",
       "output_type": "pyerr",
       "traceback": [
        "\u001b[0;31m---------------------------------------------------------------------------\u001b[0m\n\u001b[0;31mIOError\u001b[0m                                   Traceback (most recent call last)",
        "\u001b[0;32m<ipython-input-3-857b53cd5df5>\u001b[0m in \u001b[0;36m<module>\u001b[0;34m()\u001b[0m\n\u001b[1;32m     13\u001b[0m \u001b[0msampler\u001b[0m\u001b[0;34m.\u001b[0m\u001b[0minputs\u001b[0m\u001b[0;34m.\u001b[0m\u001b[0msubject_id\u001b[0m \u001b[0;34m=\u001b[0m \u001b[0;34m\"23651\"\u001b[0m\u001b[0;34m\u001b[0m\u001b[0m\n\u001b[1;32m     14\u001b[0m \u001b[0;34m\u001b[0m\u001b[0m\n\u001b[0;32m---> 15\u001b[0;31m \u001b[0mres\u001b[0m \u001b[0;34m=\u001b[0m \u001b[0msampler\u001b[0m\u001b[0;34m.\u001b[0m\u001b[0mrun\u001b[0m\u001b[0;34m(\u001b[0m\u001b[0;34m)\u001b[0m\u001b[0;34m\u001b[0m\u001b[0m\n\u001b[0m",
        "\u001b[0;32m/usr/lib/python2.7/dist-packages/nipype/interfaces/freesurfer/base.pyc\u001b[0m in \u001b[0;36mrun\u001b[0;34m(self, **inputs)\u001b[0m\n\u001b[1;32m    123\u001b[0m             \u001b[0mself\u001b[0m\u001b[0;34m.\u001b[0m\u001b[0minputs\u001b[0m\u001b[0;34m.\u001b[0m\u001b[0msubjects_dir\u001b[0m \u001b[0;34m=\u001b[0m \u001b[0minputs\u001b[0m\u001b[0;34m[\u001b[0m\u001b[0;34m'subjects_dir'\u001b[0m\u001b[0;34m]\u001b[0m\u001b[0;34m\u001b[0m\u001b[0m\n\u001b[1;32m    124\u001b[0m         \u001b[0mself\u001b[0m\u001b[0;34m.\u001b[0m\u001b[0m_subjects_dir_update\u001b[0m\u001b[0;34m(\u001b[0m\u001b[0;34m)\u001b[0m\u001b[0;34m\u001b[0m\u001b[0m\n\u001b[0;32m--> 125\u001b[0;31m         \u001b[0;32mreturn\u001b[0m \u001b[0msuper\u001b[0m\u001b[0;34m(\u001b[0m\u001b[0mFSCommand\u001b[0m\u001b[0;34m,\u001b[0m \u001b[0mself\u001b[0m\u001b[0;34m)\u001b[0m\u001b[0;34m.\u001b[0m\u001b[0mrun\u001b[0m\u001b[0;34m(\u001b[0m\u001b[0;34m**\u001b[0m\u001b[0minputs\u001b[0m\u001b[0;34m)\u001b[0m\u001b[0;34m\u001b[0m\u001b[0m\n\u001b[0m\u001b[1;32m    126\u001b[0m \u001b[0;34m\u001b[0m\u001b[0m\n\u001b[1;32m    127\u001b[0m     def _gen_fname(self, basename, fname=None, cwd=None, suffix='_fs',\n",
        "\u001b[0;32m/usr/lib/python2.7/dist-packages/nipype/interfaces/base.pyc\u001b[0m in \u001b[0;36mrun\u001b[0;34m(self, **inputs)\u001b[0m\n\u001b[1;32m    996\u001b[0m                     \u001b[0mruntime\u001b[0m\u001b[0;34m.\u001b[0m\u001b[0menviron\u001b[0m\u001b[0;34m[\u001b[0m\u001b[0;34m'DISPLAY'\u001b[0m\u001b[0;34m]\u001b[0m \u001b[0;34m=\u001b[0m \u001b[0;34m':%s'\u001b[0m \u001b[0;34m%\u001b[0m \u001b[0mvdisplay_num\u001b[0m\u001b[0;34m\u001b[0m\u001b[0m\n\u001b[1;32m    997\u001b[0m \u001b[0;34m\u001b[0m\u001b[0m\n\u001b[0;32m--> 998\u001b[0;31m             \u001b[0mruntime\u001b[0m \u001b[0;34m=\u001b[0m \u001b[0mself\u001b[0m\u001b[0;34m.\u001b[0m\u001b[0m_run_interface\u001b[0m\u001b[0;34m(\u001b[0m\u001b[0mruntime\u001b[0m\u001b[0;34m)\u001b[0m\u001b[0;34m\u001b[0m\u001b[0m\n\u001b[0m\u001b[1;32m    999\u001b[0m \u001b[0;34m\u001b[0m\u001b[0m\n\u001b[1;32m   1000\u001b[0m             \u001b[0;32mif\u001b[0m \u001b[0mself\u001b[0m\u001b[0;34m.\u001b[0m\u001b[0m_redirect_x\u001b[0m\u001b[0;34m:\u001b[0m\u001b[0;34m\u001b[0m\u001b[0m\n",
        "\u001b[0;32m/usr/lib/python2.7/dist-packages/nipype/interfaces/base.pyc\u001b[0m in \u001b[0;36m_run_interface\u001b[0;34m(self, runtime, correct_return_codes)\u001b[0m\n\u001b[1;32m   1438\u001b[0m         \u001b[0;32mif\u001b[0m \u001b[0;32mnot\u001b[0m \u001b[0mexist_val\u001b[0m\u001b[0;34m:\u001b[0m\u001b[0;34m\u001b[0m\u001b[0m\n\u001b[1;32m   1439\u001b[0m             raise IOError(\"%s could not be found on host %s\" %\n\u001b[0;32m-> 1440\u001b[0;31m                           (self.cmd.split()[0], runtime.hostname))\n\u001b[0m\u001b[1;32m   1441\u001b[0m         \u001b[0msetattr\u001b[0m\u001b[0;34m(\u001b[0m\u001b[0mruntime\u001b[0m\u001b[0;34m,\u001b[0m \u001b[0;34m'command_path'\u001b[0m\u001b[0;34m,\u001b[0m \u001b[0mcmd_path\u001b[0m\u001b[0;34m)\u001b[0m\u001b[0;34m\u001b[0m\u001b[0m\n\u001b[1;32m   1442\u001b[0m         setattr(runtime, 'dependencies', get_dependencies(executable_name,\n",
        "\u001b[0;31mIOError\u001b[0m: mri_vol2surf could not be found on host kaiser.cbs.mpg.de\nInterface SampleToSurface failed to run. "
       ]
      },
      {
       "output_type": "stream",
       "stream": "stderr",
       "text": [
        "/usr/lib/python2.7/dist-packages/nipype/interfaces/base.py:397: UserWarning: Input sampling_method requires inputs: sampling_range, sampling_units\n",
        "  warn(msg)\n",
        "/usr/lib/python2.7/dist-packages/nipype/interfaces/base.py:397: UserWarning: Input reg_header requires inputs: subject_id\n",
        "  warn(msg)\n"
       ]
      }
     ],
     "prompt_number": 3
    },
    {
     "cell_type": "code",
     "collapsed": false,
     "input": [
      "import sys, scipy, os, h5py, functions\n",
      "import numpy as np, pylab as pl, nibabel as nib\n",
      "from sklearn.cluster import KMeans\n",
      "\n",
      "# Set defaults:\n",
      "n_components_embedding = 25\n",
      "comp_min = 2\n",
      "comp_max = 20\n",
      "subjects = []\n",
      "\n",
      "# load cortex:\n",
      "cort = ???\n",
      "\n",
      "for sub in subjects:     \n",
      "    dataAll = []  \n",
      "    for run in [1,2,3,4]: # Import four files and norm\n",
      "        data = nib.nifti.load()\n",
      "        dataNorm = (data - data.mean(axis=0)) / data.stdev(axis=0)\n",
      "        dataAll.hstack(dataNorm)\n",
      "        \n",
      "    # Correlate \n",
      "    dataCorr = np.corr(dataAll)\n",
      "\n",
      "    # remove NaNs\n",
      "    dataCorr.isnan() = 0\n",
      "    \n",
      "    # Embed and cluster\n",
      "    embedding = runEmbed(prepMat(dataCorr), n_components_embedding)\n",
      "    results = []\n",
      "    for n_components in xrange(comp_min,comp_max):   \n",
      "        results.append(recort(KMeans(embedding, n_components), cort))\n",
      "\n",
      "    scipy.io.savemat(('%s.mat' % filename), {'results':results})\n"
     ],
     "language": "python",
     "metadata": {},
     "outputs": []
    }
   ],
   "metadata": {}
  }
 ]
}